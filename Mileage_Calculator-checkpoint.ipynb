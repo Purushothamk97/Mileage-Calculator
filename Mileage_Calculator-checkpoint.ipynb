{
 "cells": [
  {
   "cell_type": "markdown",
   "id": "bc21b8b2",
   "metadata": {},
   "source": [
    "Calculating mileage from odometer readings"
   ]
  },
  {
   "cell_type": "code",
   "execution_count": 68,
   "id": "a22ed823",
   "metadata": {},
   "outputs": [
    {
     "name": "stdout",
     "output_type": "stream",
     "text": [
      "Enter odometer reading:1000\n",
      "Enter distance driven using reserve fuel:10\n"
     ]
    }
   ],
   "source": [
    "#Readings to be entered before fuelling\n",
    "odo1=float(input('Enter odometer reading:'))\n",
    "rsrv1=float(input('Enter distance driven using reserve fuel:'))"
   ]
  },
  {
   "cell_type": "code",
   "execution_count": 111,
   "id": "3fad5913",
   "metadata": {},
   "outputs": [
    {
     "name": "stdout",
     "output_type": "stream",
     "text": [
      "Enter odoneter reading:1100\n",
      "Enter distance driven using reserve fuel:.25\n"
     ]
    }
   ],
   "source": [
    "#Readings to be entered before fuelling the second time\n",
    "odo2=float(input('Enter odoneter reading:'))\n",
    "rsrv2=float(input('Enter distance driven using reserve fuel:'))"
   ]
  },
  {
   "cell_type": "code",
   "execution_count": 112,
   "id": "e5551ba8",
   "metadata": {},
   "outputs": [
    {
     "name": "stdout",
     "output_type": "stream",
     "text": [
      "Enter quantity of fuel consumed in litres:3\n"
     ]
    }
   ],
   "source": [
    "#Enter fuel quantity\n",
    "fuelq=input('Enter quantity of fuel consumed in litres:')"
   ]
  },
  {
   "cell_type": "code",
   "execution_count": 114,
   "id": "7c45eeb2",
   "metadata": {},
   "outputs": [
    {
     "name": "stdout",
     "output_type": "stream",
     "text": [
      "Enter price of fuel per litre:104.3\n",
      "Enter cost for fuelling:350\n"
     ]
    }
   ],
   "source": [
    "#Enter price per litre and cost of fuel(if quantity is not known)\n",
    "fuelp=input('Enter price of fuel per litre:')\n",
    "fuelc=input('Enter cost for fuelling:')"
   ]
  },
  {
   "cell_type": "code",
   "execution_count": 113,
   "id": "c81d5411",
   "metadata": {
    "scrolled": true
   },
   "outputs": [
    {
     "name": "stdout",
     "output_type": "stream",
     "text": [
      "Mileage is 36.583333333333336 per litre\n"
     ]
    }
   ],
   "source": [
    "#Mileage calculating(quantity is known)\n",
    "Mileage = (odo2-odo1+rsrv1-rsrv2)/float(fuelq)\n",
    "print(\"Mileage is \" + str( Mileage ) + \" per litre\")"
   ]
  },
  {
   "cell_type": "code",
   "execution_count": 115,
   "id": "e9934c5c",
   "metadata": {},
   "outputs": [
    {
     "name": "stdout",
     "output_type": "stream",
     "text": [
      "Mileage is 32.7055 per litre\n"
     ]
    }
   ],
   "source": [
    "#Mileage  calculating(cost and price per litre known)\n",
    "Mileage=(odo2-odo1+rsrv1-rsrv2)/(float(fuelc)/float(fuelp))\n",
    "print(\"Mileage is \" + str( Mileage ) + \" per litre\")"
   ]
  }
 ],
 "metadata": {
  "kernelspec": {
   "display_name": "Python 3 (ipykernel)",
   "language": "python",
   "name": "python3"
  },
  "language_info": {
   "codemirror_mode": {
    "name": "ipython",
    "version": 3
   },
   "file_extension": ".py",
   "mimetype": "text/x-python",
   "name": "python",
   "nbconvert_exporter": "python",
   "pygments_lexer": "ipython3",
   "version": "3.9.7"
  }
 },
 "nbformat": 4,
 "nbformat_minor": 5
}
